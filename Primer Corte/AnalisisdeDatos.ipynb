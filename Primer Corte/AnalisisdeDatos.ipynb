{
  "nbformat": 4,
  "nbformat_minor": 0,
  "metadata": {
    "colab": {
      "provenance": []
    },
    "kernelspec": {
      "name": "python3",
      "display_name": "Python 3"
    },
    "language_info": {
      "name": "python"
    }
  },
  "cells": [
    {
      "cell_type": "markdown",
      "source": [
        "#Mi primer analisis"
      ],
      "metadata": {
        "id": "wCWjpqQ6Uzho"
      }
    },
    {
      "cell_type": "code",
      "source": [
        "2*15"
      ],
      "metadata": {
        "colab": {
          "base_uri": "https://localhost:8080/"
        },
        "id": "Nt50YFbBQhqb",
        "outputId": "fa6b7603-2f42-4c0b-c005-13b36cb24a95"
      },
      "execution_count": 1,
      "outputs": [
        {
          "output_type": "execute_result",
          "data": {
            "text/plain": [
              "30"
            ]
          },
          "metadata": {},
          "execution_count": 1
        }
      ]
    },
    {
      "cell_type": "code",
      "source": [
        "print(\"Hola Mundoo\")"
      ],
      "metadata": {
        "colab": {
          "base_uri": "https://localhost:8080/"
        },
        "id": "TCgzKhl9QpaT",
        "outputId": "157ecfb0-0811-4636-ffac-7a6a786a3759"
      },
      "execution_count": 2,
      "outputs": [
        {
          "output_type": "stream",
          "name": "stdout",
          "text": [
            "Hola Mundoo\n"
          ]
        }
      ]
    },
    {
      "cell_type": "code",
      "source": [],
      "metadata": {
        "id": "N2fskSwhQs7a"
      },
      "execution_count": null,
      "outputs": []
    }
  ]
}